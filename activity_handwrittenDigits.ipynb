{
 "cells": [
  {
   "cell_type": "code",
   "execution_count": null,
   "metadata": {},
   "outputs": [],
   "source": [
    "import random\n",
    "import time\n",
    "\n",
    "import numpy as np\n",
    "import matplotlib.pyplot as plt\n",
    "\n",
    "from os import listdir\n",
    "from sklearn.neighbors import KNeighborsClassifier as KNN\n",
    "from sklearn.decomposition import PCA\n",
    "\n",
    "\n",
    "\n",
    "import sys\n",
    "!{sys.executable} -m pip install pygame\n",
    "# !python pygame-1.9.6/setup.py\n",
    "import draw_digits as game"
   ]
  },
  {
   "cell_type": "code",
   "execution_count": null,
   "metadata": {},
   "outputs": [],
   "source": [
    "\n",
    "def img2vector(filename):\n",
    "\n",
    "    returnVect = np.zeros((1, 1024))\n",
    "    fr = open(filename)\n",
    "\n",
    "    for i in range(32):\n",
    "        lineStr = fr.readline()\n",
    "        for j in range(32):\n",
    "            returnVect[0, 32*i+j] = int(lineStr[j])\n",
    "\n",
    "    return returnVect\n",
    "def plotNumbers(trainingMat, hwLabels):\n",
    "    \n",
    "    plt.scatter(trainingMat[:, 0], trainingMat[:, 1],\n",
    "            c=hwLabels, edgecolor='none', alpha=0.5)\n",
    "    plt.set_cmap(plt.cm.get_cmap('nipy_spectral',10))\n",
    "\n",
    "    plt.xlabel('component 1')\n",
    "    plt.ylabel('component 2')\n",
    "    plt.colorbar()\n",
    "    plt.show()\n",
    "\n",
    "def drawYourOwnDigits():\n",
    "    game.play()\n",
    "    myDigits = listdir('myDigits')\n",
    "    m = len(myDigits)\n",
    "    myDigitMat = np.zeros((m, 1024))\n",
    "    classNumbers = []\n",
    "    for i in range(m):\n",
    "        fileNameStr = myDigits[i]\n",
    "\n",
    "        classNumbers.append(int(fileNameStr.split('_')[0]))\n",
    "        myDigitMat[i,:] = img2vector('myDigits/%s' % (fileNameStr))\n",
    "    return myDigitMat, classNumbers"
   ]
  },
  {
   "cell_type": "code",
   "execution_count": null,
   "metadata": {},
   "outputs": [],
   "source": [
    "# data is shuffled and thus the training and testing samples are different each time \n",
    "\n",
    "hwLabels = []\n",
    "trainingFileList = listdir('trainingDigits')\n",
    "random.shuffle(trainingFileList)\n",
    "testFileList = trainingFileList[0:200]\n",
    "trainingFileList = trainingFileList[201:len(trainingFileList)-1]\n",
    "\n",
    "m = len(trainingFileList)\n",
    "\n",
    "trainingMat = np.zeros((m, 1024))\n",
    "TestMat = np.zeros((200, 1024))\n",
    "classNumbers = []\n",
    "\n",
    "for i in range(m):\n",
    "    fileNameStr = trainingFileList[i]\n",
    "\n",
    "    classNumber = int(fileNameStr.split('_')[0])\n",
    "    hwLabels.append(classNumber)\n",
    "    trainingMat[i,:] = img2vector('trainingDigits/%s' % (fileNameStr))\n",
    "\n",
    "for i in range(200):\n",
    "\n",
    "    fileNameStr = testFileList[i]\n",
    "\n",
    "    classNumbers.append(int(fileNameStr.split('_')[0]))\n",
    "\n",
    "    TestMat[i,:] = img2vector('trainingDigits/%s' % (fileNameStr))\n",
    "\n",
    "print(trainingMat.shape)\n",
    "print(TestMat.shape)"
   ]
  },
  {
   "cell_type": "code",
   "execution_count": null,
   "metadata": {
    "scrolled": true
   },
   "outputs": [],
   "source": [
    "# run this part to make your own test cases :)\n",
    "# make sure retrain the data before run this part\n",
    "# Press s or Esc to finish drawing\n",
    "\n",
    "\n",
    "TestMat, classNumbers = drawYourOwnDigits()"
   ]
  },
  {
   "cell_type": "code",
   "execution_count": null,
   "metadata": {},
   "outputs": [],
   "source": [
    "# Run this part to pca the data\n",
    "\n",
    "NumOfDimensions = 10\n",
    "\n",
    "\n",
    "\n",
    "pca_model = PCA(n_components=NumOfDimensions)\n",
    "pca_model.fit(trainingMat)\n",
    "trainingMat = pca_model.transform(trainingMat)\n",
    "TestMat = pca_model.transform(TestMat)\n",
    "plotNumbers(trainingMat, hwLabels)\n",
    "\n",
    "\n",
    "print(trainingMat.shape)\n",
    "print(TestMat.shape)"
   ]
  },
  {
   "cell_type": "code",
   "execution_count": null,
   "metadata": {},
   "outputs": [],
   "source": [
    "n_neighbors = 30\n",
    "\n",
    "\n",
    "neigh =KNN(n_neighbors, algorithm = 'auto')\n",
    "neigh.fit(trainingMat, hwLabels)\n",
    "mTest = len(TestMat)\n",
    "\n",
    "\n",
    "\n",
    "errorCount = 0.0\n",
    "start_time = time.time()\n",
    "classifierResult = neigh.predict(TestMat)\n",
    "for i in range(mTest):\n",
    "    if(classifierResult[i] != classNumbers[i] or mTest < 15):\n",
    "        print(\"classified: %d\\ real result:%d\" % (classifierResult[i], int(classNumbers[i])))\n",
    "        if(classifierResult[i] != classNumbers[i]):\n",
    "            errorCount += 1.0\n",
    "end_time = time.time()\n",
    "print(\"Time used to predict was %g seconds\" % (end_time - start_time))\n",
    "print(\"Total misclassified data : %d \\n in rate of%f%%\" % (errorCount, errorCount/mTest * 100))\n"
   ]
  }
 ],
 "metadata": {
  "kernelspec": {
   "display_name": "Python 3",
   "language": "python",
   "name": "python3"
  },
  "language_info": {
   "codemirror_mode": {
    "name": "ipython",
    "version": 3
   },
   "file_extension": ".py",
   "mimetype": "text/x-python",
   "name": "python",
   "nbconvert_exporter": "python",
   "pygments_lexer": "ipython3",
   "version": "3.7.4"
  }
 },
 "nbformat": 4,
 "nbformat_minor": 2
}
